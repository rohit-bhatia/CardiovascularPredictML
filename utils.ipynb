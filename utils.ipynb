{
 "cells": [
  {
   "cell_type": "code",
   "execution_count": 4,
   "metadata": {},
   "outputs": [],
   "source": [
    "import scipy.stats as ss\n",
    "import pandas as pd\n",
    "import numpy as np\n",
    "import math"
   ]
  },
  {
   "cell_type": "code",
   "execution_count": 2,
   "metadata": {},
   "outputs": [],
   "source": [
    "def cramers_v(x, y):\n",
    "    confusion_matrix = pd.crosstab(x,y)\n",
    "    chi2 = ss.chi2_contingency(confusion_matrix)[0]\n",
    "    n = confusion_matrix.sum().sum()\n",
    "    phi2 = chi2/n\n",
    "    r,k = confusion_matrix.shape\n",
    "    phi2corr = max(0, phi2-((k-1)*(r-1))/(n-1))\n",
    "    rcorr = r-((r-1)**2)/(n-1)\n",
    "    kcorr = k-((k-1)**2)/(n-1)\n",
    "    return np.sqrt(phi2corr/min((kcorr-1),(rcorr-1)))"
   ]
  },
  {
   "cell_type": "code",
   "execution_count": 3,
   "metadata": {},
   "outputs": [],
   "source": [
    "def theils_u(x, y):\n",
    "    s_xy = conditional_entropy(x,y)\n",
    "    x_counter = Counter(x)\n",
    "    total_occurrences = sum(x_counter.values())\n",
    "    p_x = list(map(lambda n: n/total_occurrences, x_counter.values()))\n",
    "    s_x = ss.entropy(p_x)\n",
    "    if s_x == 0:\n",
    "        return 1\n",
    "    else:\n",
    "        return (s_x - s_xy) / s_x"
   ]
  },
  {
   "cell_type": "code",
   "execution_count": 6,
   "metadata": {},
   "outputs": [],
   "source": [
    "_REPLACE = 'replace'\n",
    "_DROP = 'drop'\n",
    "_DROP_SAMPLES = 'drop_samples'\n",
    "_DROP_FEATURES = 'drop_features'\n",
    "_SKIP = 'skip'\n",
    "_DEFAULT_REPLACE_VALUE = 0.0"
   ]
  },
  {
   "cell_type": "code",
   "execution_count": 7,
   "metadata": {},
   "outputs": [],
   "source": [
    "def conditional_entropy(x,y,nan_strategy=_REPLACE,nan_replace_value=_DEFAULT_REPLACE_VALUE,log_base: float = math.e):\n",
    "    if nan_strategy == _REPLACE:\n",
    "        x, y = replace_nan_with_value(x, y, nan_replace_value)\n",
    "    elif nan_strategy == _DROP:\n",
    "        x, y = remove_incomplete_samples(x, y)\n",
    "    y_counter = Counter(y)\n",
    "    xy_counter = Counter(list(zip(x, y)))\n",
    "    total_occurrences = sum(y_counter.values())\n",
    "    entropy = 0.0\n",
    "    for xy in xy_counter.keys():\n",
    "        p_xy = xy_counter[xy] / total_occurrences\n",
    "        p_y = y_counter[xy[1]] / total_occurrences\n",
    "        entropy += p_xy * math.log(p_y / p_xy, log_base)\n",
    "    return entropy\n",
    "\n"
   ]
  },
  {
   "cell_type": "code",
   "execution_count": 6,
   "metadata": {},
   "outputs": [],
   "source": [
    "def cramerv_corr(data):\n",
    "    K = len(data.columns)\n",
    "    correl = np.empty((K, K), dtype=float)\n",
    "    for i,x in enumerate(data.columns):\n",
    "        for j,y in enumerate(data.columns):\n",
    "            if i==j:\n",
    "                c = 1\n",
    "            else:\n",
    "                c = cramers_v(data[x],data[y])\n",
    "            correl[i,j] = c\n",
    "    return pd.DataFrame(correl,index=data.columns,columns=data.columns)"
   ]
  },
  {
   "cell_type": "code",
   "execution_count": 5,
   "metadata": {},
   "outputs": [
    {
     "data": {
      "text/plain": [
       "(['    def corr(self, method=\"pearson\", min_periods=1) -> \"DataFrame\":\\n',\n",
       "  '        \"\"\"\\n',\n",
       "  '        Compute pairwise correlation of columns, excluding NA/null values.\\n',\n",
       "  '\\n',\n",
       "  '        Parameters\\n',\n",
       "  '        ----------\\n',\n",
       "  \"        method : {'pearson', 'kendall', 'spearman'} or callable\\n\",\n",
       "  '            Method of correlation:\\n',\n",
       "  '\\n',\n",
       "  '            * pearson : standard correlation coefficient\\n',\n",
       "  '            * kendall : Kendall Tau correlation coefficient\\n',\n",
       "  '            * spearman : Spearman rank correlation\\n',\n",
       "  '            * callable: callable with input two 1d ndarrays\\n',\n",
       "  '                and returning a float. Note that the returned matrix from corr\\n',\n",
       "  '                will have 1 along the diagonals and will be symmetric\\n',\n",
       "  \"                regardless of the callable's behavior.\\n\",\n",
       "  '\\n',\n",
       "  '                .. versionadded:: 0.24.0\\n',\n",
       "  '\\n',\n",
       "  '        min_periods : int, optional\\n',\n",
       "  '            Minimum number of observations required per pair of columns\\n',\n",
       "  '            to have a valid result. Currently only available for Pearson\\n',\n",
       "  '            and Spearman correlation.\\n',\n",
       "  '\\n',\n",
       "  '        Returns\\n',\n",
       "  '        -------\\n',\n",
       "  '        DataFrame\\n',\n",
       "  '            Correlation matrix.\\n',\n",
       "  '\\n',\n",
       "  '        See Also\\n',\n",
       "  '        --------\\n',\n",
       "  '        DataFrame.corrwith\\n',\n",
       "  '        Series.corr\\n',\n",
       "  '\\n',\n",
       "  '        Examples\\n',\n",
       "  '        --------\\n',\n",
       "  '        >>> def histogram_intersection(a, b):\\n',\n",
       "  '        ...     v = np.minimum(a, b).sum().round(decimals=1)\\n',\n",
       "  '        ...     return v\\n',\n",
       "  '        >>> df = pd.DataFrame([(.2, .3), (.0, .6), (.6, .0), (.2, .1)],\\n',\n",
       "  \"        ...                   columns=['dogs', 'cats'])\\n\",\n",
       "  '        >>> df.corr(method=histogram_intersection)\\n',\n",
       "  '              dogs  cats\\n',\n",
       "  '        dogs   1.0   0.3\\n',\n",
       "  '        cats   0.3   1.0\\n',\n",
       "  '        \"\"\"\\n',\n",
       "  '        numeric_df = self._get_numeric_data()\\n',\n",
       "  '        cols = numeric_df.columns\\n',\n",
       "  '        idx = cols.copy()\\n',\n",
       "  '        mat = numeric_df.values\\n',\n",
       "  '\\n',\n",
       "  '        if method == \"pearson\":\\n',\n",
       "  '            correl = libalgos.nancorr(ensure_float64(mat), minp=min_periods)\\n',\n",
       "  '        elif method == \"spearman\":\\n',\n",
       "  '            correl = libalgos.nancorr_spearman(ensure_float64(mat), minp=min_periods)\\n',\n",
       "  '        elif method == \"kendall\" or callable(method):\\n',\n",
       "  '            if min_periods is None:\\n',\n",
       "  '                min_periods = 1\\n',\n",
       "  '            mat = ensure_float64(mat).T\\n',\n",
       "  '            corrf = nanops.get_corr_func(method)\\n',\n",
       "  '            K = len(cols)\\n',\n",
       "  '            correl = np.empty((K, K), dtype=float)\\n',\n",
       "  '            mask = np.isfinite(mat)\\n',\n",
       "  '            for i, ac in enumerate(mat):\\n',\n",
       "  '                for j, bc in enumerate(mat):\\n',\n",
       "  '                    if i > j:\\n',\n",
       "  '                        continue\\n',\n",
       "  '\\n',\n",
       "  '                    valid = mask[i] & mask[j]\\n',\n",
       "  '                    if valid.sum() < min_periods:\\n',\n",
       "  '                        c = np.nan\\n',\n",
       "  '                    elif i == j:\\n',\n",
       "  '                        c = 1.0\\n',\n",
       "  '                    elif not valid.all():\\n',\n",
       "  '                        c = corrf(ac[valid], bc[valid])\\n',\n",
       "  '                    else:\\n',\n",
       "  '                        c = corrf(ac, bc)\\n',\n",
       "  '                    correl[i, j] = c\\n',\n",
       "  '                    correl[j, i] = c\\n',\n",
       "  '        else:\\n',\n",
       "  '            raise ValueError(\\n',\n",
       "  '                \"method must be either \\'pearson\\', \"\\n',\n",
       "  '                \"\\'spearman\\', \\'kendall\\', or a callable, \"\\n',\n",
       "  '                f\"\\'{method}\\' was supplied\"\\n',\n",
       "  '            )\\n',\n",
       "  '\\n',\n",
       "  '        return self._constructor(correl, index=idx, columns=cols)\\n'],\n",
       " 7414)"
      ]
     },
     "execution_count": 5,
     "metadata": {},
     "output_type": "execute_result"
    }
   ],
   "source": [
    "import inspect\n",
    "inspect.getsourcelines(pd.DataFrame.corr)"
   ]
  },
  {
   "cell_type": "code",
   "execution_count": null,
   "metadata": {},
   "outputs": [],
   "source": []
  }
 ],
 "metadata": {
  "kernelspec": {
   "display_name": "Python 3",
   "language": "python",
   "name": "python3"
  },
  "language_info": {
   "codemirror_mode": {
    "name": "ipython",
    "version": 3
   },
   "file_extension": ".py",
   "mimetype": "text/x-python",
   "name": "python",
   "nbconvert_exporter": "python",
   "pygments_lexer": "ipython3",
   "version": "3.7.3"
  }
 },
 "nbformat": 4,
 "nbformat_minor": 4
}
